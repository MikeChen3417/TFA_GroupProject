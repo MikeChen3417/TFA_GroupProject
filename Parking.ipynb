{
 "cells": [
  {
   "cell_type": "code",
   "execution_count": 1,
   "id": "7317f1fc-2c11-4147-9287-386636d88fa5",
   "metadata": {},
   "outputs": [],
   "source": [
    "import numpy as np\n",
    "import pandas as pd"
   ]
  },
  {
   "cell_type": "code",
   "execution_count": 5,
   "id": "5cc23926-b45a-4391-ade3-1ef6177aaeca",
   "metadata": {},
   "outputs": [
    {
     "name": "stderr",
     "output_type": "stream",
     "text": [
      "C:\\Users\\mccr8\\anaconda3\\lib\\site-packages\\IPython\\core\\interactiveshell.py:3165: DtypeWarning: Columns (20,31,32) have mixed types.Specify dtype option on import or set low_memory=False.\n",
      "  has_raised = await self.run_ast_nodes(code_ast.body, cell_name,\n"
     ]
    }
   ],
   "source": [
    "#Filter with the Zipcode(10025)\n",
    "df = pd.read_csv(\"311_Service_Requests_2020.csv\")\n",
    "#df = df[df['Incident Zip'] == 10025.0]"
   ]
  },
  {
   "cell_type": "code",
   "execution_count": 6,
   "id": "291a33fd-4d31-4d86-9224-b3b28d071aab",
   "metadata": {},
   "outputs": [
    {
     "data": {
      "text/plain": [
       "array(['Food Poisoning', 'Blocked Driveway', 'Noise - Residential',\n",
       "       'Noise - Helicopter', 'Noise - Commercial', 'HEAT/HOT WATER',\n",
       "       'Illegal Parking', 'Street Condition', 'Rodent',\n",
       "       'Noise - Street/Sidewalk', 'Illegal Fireworks', 'PLUMBING',\n",
       "       'DOOR/WINDOW', 'Sidewalk Condition', 'Taxi Complaint',\n",
       "       'Traffic Signal Condition', 'Dirty Conditions', 'Building/Use',\n",
       "       'Noise', 'Sewer', 'Drinking', 'Street Light Condition',\n",
       "       'Noise - Vehicle', 'Animal-Abuse', 'Elevator', 'Derelict Vehicles',\n",
       "       'Dead/Dying Tree', 'Non-Emergency Police Matter',\n",
       "       'Homeless Encampment', 'WATER LEAK', 'UNSANITARY CONDITION',\n",
       "       'General Construction/Plumbing', 'Boilers',\n",
       "       'Street Sign - Missing', 'Water System',\n",
       "       'For Hire Vehicle Complaint', 'Food Establishment',\n",
       "       'Special Projects Inspection Team (SPIT)', 'Lead', 'Lost Property',\n",
       "       'Abandoned Vehicle', 'Hazardous Materials', 'PAINT/PLASTER',\n",
       "       'APPLIANCE', 'FLOORING/STAIRS', 'Highway Condition',\n",
       "       'Street Sign - Damaged', 'Consumer Complaint',\n",
       "       'Sanitation Condition', 'Air Quality', 'Taxi Report',\n",
       "       'Missed Collection (All Materials)', 'Overgrown Tree/Branches',\n",
       "       'Homeless Person Assistance', 'GENERAL', 'Noise - Park',\n",
       "       'Damaged Tree', 'Graffiti', 'ELECTRIC', 'Maintenance or Facility',\n",
       "       'Street Sign - Dangling', 'Derelict Bicycle', 'New Tree Request',\n",
       "       'Panhandling', 'Electrical', 'Animal in a Park', 'SAFETY',\n",
       "       'Vending', 'Drug Activity', 'Unleashed Dog', 'Water Quality',\n",
       "       'Root/Sewer/Sidewalk Condition', 'ELEVATOR', 'Smoking',\n",
       "       'Illegal Animal Kept as Pet', 'Curb Condition',\n",
       "       'Unsanitary Animal Pvt Property', 'Mobile Food Vendor',\n",
       "       'Broken Parking Meter', 'Public Payphone Complaint',\n",
       "       'Bike/Roller/Skate Chronic',\n",
       "       'Home Delivered Meal - Missed Delivery', 'Asbestos',\n",
       "       'Green Taxi Complaint', 'BEST/Site Safety', 'School Maintenance',\n",
       "       'Illegal Tree Damage', 'Pet Shop', 'Plumbing',\n",
       "       'Beach/Pool/Sauna Complaint', 'Indoor Sewage', 'Vacant Lot',\n",
       "       'Traffic', 'For Hire Vehicle Report', 'Snow',\n",
       "       'Municipal Parking Facility', 'Water Conservation',\n",
       "       'Indoor Air Quality', 'OUTSIDE BUILDING', 'Scaffold Safety',\n",
       "       'Other Enforcement', 'Unsanitary Pigeon Condition',\n",
       "       'Bridge Condition', 'Plant', 'Industrial Waste',\n",
       "       'Non-Residential Heat', 'Executive Inspections',\n",
       "       'Construction Lead Dust', 'Ferry Complaint',\n",
       "       'Unsanitary Animal Facility', 'Mold', 'Noise - House of Worship',\n",
       "       'Violation of Park Rules', 'Investigations and Discipline (IAD)',\n",
       "       'Highway Sign - Dangling', 'Bus Stop Shelter Complaint',\n",
       "       'Ferry Inquiry', 'Day Care', 'Emergency Response Team (ERT)',\n",
       "       'Peeling Paint', 'Special Natural Area District (SNAD)',\n",
       "       'Urinating in Public', 'Recycling Enforcement',\n",
       "       'DEP Street Condition', 'Disorderly Youth',\n",
       "       'Bus Stop Shelter Placement', 'Highway Sign - Damaged',\n",
       "       'Highway Sign - Missing', 'Posting Advertisement',\n",
       "       'Green Taxi Report', 'Borough Office',\n",
       "       'Home Delivered Meal Complaint', 'Drinking Water',\n",
       "       'Cranes and Derricks', 'Building Marshals office',\n",
       "       'Found Property', 'FHV Licensee Complaint',\n",
       "       'Homeless Street Condition', 'Taxi Compliment', 'Encampment',\n",
       "       'Ferry Permit', 'Building Condition', 'Tattooing',\n",
       "       'Bike Rack Condition', 'LinkNYC', 'Illegal Animal Sold',\n",
       "       'Cooling Tower', 'Animal Facility - No Permit',\n",
       "       'Dept of Investigations', 'X-Ray Machine/Equipment',\n",
       "       'Snow Removal', 'Internal Code', 'Window Guard',\n",
       "       'Employee Behavior', 'Facades', 'Public Toilet',\n",
       "       'Overflowing Litter Baskets', 'Poison Ivy', 'Squeegee',\n",
       "       'Calorie Labeling', 'Bottled Water', 'Tunnel Condition',\n",
       "       'Radioactive Material', 'Tanning', 'Lifeguard',\n",
       "       'Miscellaneous Categories', 'Litter Basket / Request',\n",
       "       'COVID-19 Non-essential Construction', 'Harboring Bees/Wasps',\n",
       "       'DSNY Spillage', 'Mosquitoes',\n",
       "       'NonCompliance with Phased Reopening', 'Standing Water',\n",
       "       'Sweeping/Inadequate', 'Outdoor Dining', 'Sweeping/Missed',\n",
       "       'Collection Truck Noise', 'Dispatched Taxi Complaint',\n",
       "       'Private or Charter School Reopening', 'Mass Gathering Complaint',\n",
       "       'DEP Sidewalk Condition', 'Trans Fat', 'Wood Pile Remaining',\n",
       "       'Uprooted Stump', 'SNW'], dtype=object)"
      ]
     },
     "execution_count": 6,
     "metadata": {},
     "output_type": "execute_result"
    }
   ],
   "source": [
    "#look at the column names\n",
    "pd.set_option('display.max_columns', None)\n",
    "df['Complaint Type'].unique() 'Illegal Parking'"
   ]
  },
  {
   "cell_type": "code",
   "execution_count": 7,
   "id": "21a42d5a-0b0e-4f37-b0a8-917eb07c7424",
   "metadata": {},
   "outputs": [
    {
     "data": {
      "text/plain": [
       "2587316"
      ]
     },
     "execution_count": 7,
     "metadata": {},
     "output_type": "execute_result"
    }
   ],
   "source": [
    "#total number of accidents\n",
    "len(df)"
   ]
  },
  {
   "cell_type": "code",
   "execution_count": 10,
   "id": "4b605770-abfe-48cb-a7f1-9628851f9066",
   "metadata": {},
   "outputs": [
    {
     "data": {
      "text/plain": [
       "193721"
      ]
     },
     "execution_count": 10,
     "metadata": {},
     "output_type": "execute_result"
    }
   ],
   "source": [
    "#total number of illegal parking accident \n",
    "len(df[df['Complaint Type'] == 'Illegal Parking'])"
   ]
  },
  {
   "cell_type": "code",
   "execution_count": 11,
   "id": "38583184-8360-4d28-8a88-efea9f4b95b4",
   "metadata": {},
   "outputs": [
    {
     "data": {
      "text/plain": [
       "0.07487334365033108"
      ]
     },
     "execution_count": 11,
     "metadata": {},
     "output_type": "execute_result"
    }
   ],
   "source": [
    "#faction of (total # of illegal parking accident) / total number of accidents\n",
    "len(df[df['Complaint Type'] == 'Illegal Parking'])/len(df)"
   ]
  },
  {
   "cell_type": "code",
   "execution_count": 16,
   "id": "081f3356-6c64-4eae-a9a2-7df34c25cf0a",
   "metadata": {},
   "outputs": [
    {
     "data": {
      "text/plain": [
       "20978"
      ]
     },
     "execution_count": 16,
     "metadata": {},
     "output_type": "execute_result"
    }
   ],
   "source": [
    "#total number of incidents in your ZIP(10025)\n",
    "df = df[df['Incident Zip'] == 10025.0]\n",
    "len(df)"
   ]
  },
  {
   "cell_type": "code",
   "execution_count": 17,
   "id": "489dc51b-1f77-4ac6-9c7d-5c5bdd9dc825",
   "metadata": {},
   "outputs": [
    {
     "data": {
      "text/plain": [
       "792"
      ]
     },
     "execution_count": 17,
     "metadata": {},
     "output_type": "execute_result"
    }
   ],
   "source": [
    "#total number of parking incidents in your ZIP(10025)\n",
    "len(df[df['Complaint Type'] == 'Illegal Parking'])"
   ]
  },
  {
   "cell_type": "code",
   "execution_count": 18,
   "id": "d9acfe98-d249-4108-8fd7-151f4380859f",
   "metadata": {},
   "outputs": [
    {
     "data": {
      "text/plain": [
       "0.03775383735341787"
      ]
     },
     "execution_count": 18,
     "metadata": {},
     "output_type": "execute_result"
    }
   ],
   "source": [
    "##faction of (total # of illegal parking accident) / total number of accidents, within zipcode 10025\n",
    "len(df[df['Complaint Type'] == 'Illegal Parking'])/len(df)"
   ]
  },
  {
   "cell_type": "code",
   "execution_count": 19,
   "id": "ea396c58-7830-446f-975e-d77ba633791c",
   "metadata": {},
   "outputs": [
    {
     "data": {
      "text/plain": [
       "False"
      ]
     },
     "execution_count": 19,
     "metadata": {},
     "output_type": "execute_result"
    }
   ],
   "source": [
    "#0.07487334365033108 > 0.03775383735341787\n",
    "higher_parking_proportion = False\n",
    "higher_parking_proportion"
   ]
  },
  {
   "cell_type": "code",
   "execution_count": null,
   "id": "53c12c5e-433e-46e0-a043-e6452f574673",
   "metadata": {},
   "outputs": [],
   "source": []
  }
 ],
 "metadata": {
  "kernelspec": {
   "display_name": "Python 3",
   "language": "python",
   "name": "python3"
  },
  "language_info": {
   "codemirror_mode": {
    "name": "ipython",
    "version": 3
   },
   "file_extension": ".py",
   "mimetype": "text/x-python",
   "name": "python",
   "nbconvert_exporter": "python",
   "pygments_lexer": "ipython3",
   "version": "3.8.8"
  }
 },
 "nbformat": 4,
 "nbformat_minor": 5
}
